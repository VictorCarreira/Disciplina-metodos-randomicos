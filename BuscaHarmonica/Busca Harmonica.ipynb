{
 "cells": [
  {
   "cell_type": "markdown",
   "metadata": {
    "slideshow": {
     "slide_type": "slide"
    }
   },
   "source": [
    "# O método da Busca Harmônica"
   ]
  },
  {
   "cell_type": "code",
   "execution_count": 1,
   "metadata": {
    "slideshow": {
     "slide_type": "skip"
    }
   },
   "outputs": [],
   "source": [
    "import numpy as np\n",
    "import matplotlib.pyplot as plt\n",
    "import matplotlib.image as img\n",
    "import pylab as py\n",
    "import math as ma\n",
    "import random\n",
    "from random import *\n",
    "from IPython.display import Latex\n",
    "#novos pacotes de imagem\n",
    "import imageio\n",
    "from skimage import data, io, filters\n",
    "%matplotlib inline"
   ]
  },
  {
   "cell_type": "markdown",
   "metadata": {
    "slideshow": {
     "slide_type": "fragment"
    }
   },
   "source": [
    "O algoritmo de busca harmônica foi originalmente desenvolvido por Geem and Loganathan(2001) e foi originalmente baseado nos processos de improvisação dos músicos jazzianos.   "
   ]
  },
  {
   "cell_type": "markdown",
   "metadata": {
    "slideshow": {
     "slide_type": "subslide"
    }
   },
   "source": [
    "Nesta lógica, cada músico corresponde a uma variável de decisão."
   ]
  },
  {
   "cell_type": "markdown",
   "metadata": {
    "slideshow": {
     "slide_type": "fragment"
    }
   },
   "source": [
    "O instrumento musical corresponde a faixa  de valores onde o passo é uma faixa de valores em uma variável de decisão."
   ]
  },
  {
   "cell_type": "markdown",
   "metadata": {
    "slideshow": {
     "slide_type": "subslide"
    }
   },
   "source": [
    "A harmonia musical corresponde a um vetor de soluções em uma determinada iteração."
   ]
  },
  {
   "cell_type": "markdown",
   "metadata": {
    "slideshow": {
     "slide_type": "fragment"
    }
   },
   "source": [
    " A estética da audiência corresponde a função objetivo que se quer minimizar. "
   ]
  },
  {
   "cell_type": "markdown",
   "metadata": {
    "slideshow": {
     "slide_type": "fragment"
    }
   },
   "source": [
    "Assim como um músico melhora a sua harmonia musical com o tempo o vetor de soluções é melhorado após cada iteração. "
   ]
  },
  {
   "cell_type": "markdown",
   "metadata": {
    "slideshow": {
     "slide_type": "subslide"
    }
   },
   "source": [
    "## Formulação do problema"
   ]
  },
  {
   "cell_type": "markdown",
   "metadata": {
    "slideshow": {
     "slide_type": "fragment"
    }
   },
   "source": [
    "O problema necessita de uma função objeto para ser otimizada variáveis dependentes e idependentes.  "
   ]
  },
  {
   "cell_type": "markdown",
   "metadata": {
    "slideshow": {
     "slide_type": "fragment"
    }
   },
   "source": [
    "O algoritmo realiza uma busca no espaço de soluções com o objetivo de achar o vetor de soluções que otimiza a função objetivo. "
   ]
  },
  {
   "cell_type": "markdown",
   "metadata": {
    "slideshow": {
     "slide_type": "subslide"
    }
   },
   "source": [
    "Seja ***HM*** o vetor *Harmony Memory* onde cada posição na memória é ocupada por uma harmonia de tamanho ***n***. E o número de harmonias é ***m***."
   ]
  },
  {
   "cell_type": "markdown",
   "metadata": {
    "slideshow": {
     "slide_type": "fragment"
    }
   },
   "source": [
    "\n",
    "\\begin{equation*}\n",
    "  HM=\n",
    "  \\left[ {\\begin{array}{cc}\n",
    "   \\{x_{1,1} & x_{1,2} & x_{1,3} & \\cdots & x_{1,n} & | f(\\vec{x}_{1,n})  \\}\\\\\n",
    "   \\{x_{2,1} & x_{2,2} & x_{2,3} & \\cdots & x_{2,n} & | f(\\vec{x}_{2,n})  \\}\\\\\n",
    "   \\{x_{3,1} & x_{3,2} & x_{3,3} & \\cdots & x_{3,n} & | f(\\vec{x}_{3,n})  \\}\\\\\n",
    "   \\vdots & \\vdots & \\vdots & \\ddots & \\vdots & \\vdots\\\\\n",
    "   \\{x_{4,1} & x_{4,2} & x_{4,3} & \\cdots & x_{m,n} & | f(\\vec{x}_{m,n})\\}\\\\\n",
    "  \\end{array} } \\right]\n",
    "\\end{equation*}\n"
   ]
  },
  {
   "cell_type": "markdown",
   "metadata": {
    "slideshow": {
     "slide_type": "slide"
    }
   },
   "source": [
    "## Pseudo-código"
   ]
  },
  {
   "cell_type": "markdown",
   "metadata": {},
   "source": [
    "\\begin{enumerate}\n",
    "\\item Inicie a memória harmônica, selecionando k vetores aleatórios $x_{1},...,x_{k}$\n",
    "\\item repita\n",
    "\\item    crie um novo vetor x'\n",
    "\\item    para cada componente $x'_{i}$, faça\n",
    "\\item        com probabilidade $p_{hmcr}$, faça $x'_{i} \\longleftarrow x_{i}^{int(rand(0,1)*k+1)}$\n",
    "\\item        com probabilidade $1- p_{hmcr}$, escolha um novo valor aleatório no intervalo \n",
    "\\item para cada componente $x'_{i}$\n",
    "\\end{enumerate}\n"
   ]
  },
  {
   "cell_type": "markdown",
   "metadata": {
    "slideshow": {
     "slide_type": "subslide"
    }
   },
   "source": [
    "***Parâmetros***: HMS, HMCR, PAR, MI, FW\n",
    "\n",
    "***Início***\n",
    "\n",
    "Função Objetivo $f(\\vec{x}), \\vec{x}=[x_{1},x_{2},...x_{n}]$\n",
    "\n",
    "Inicialização da Memória Harmônica $x^{i},i=1,2,...,m$\n",
    "\n",
    "Avalia cada harmonia na ***HM***: $f(x^{i})$"
   ]
  },
  {
   "cell_type": "markdown",
   "metadata": {
    "slideshow": {
     "slide_type": "fragment"
    }
   },
   "source": [
    "ciclo $\\longleftarrow$ 1\n",
    "\n",
    "***ENQUANTO*** ciclo $<$ MI ***FAÇA***\n",
    "\n",
    "***PARA*** j$\\longleftarrow$ 1 até n ***FAÇA***\n",
    "\n",
    "***SE*** gerador_aleatorio() $\\leq$ HMCR ***ENTÃO*** {taxa de consideração na memória}\n",
    "\n",
    "$x_{i,j}' \\longleftarrow x_{i,j}$, com i $\\in$ $[1,m]$ {escolhido aleatoriamente}\n",
    "\n",
    "***SE*** gerador_aleatorio() $\\leq$ PAR ***ENTÃO*** {taxa de ajuste fino}\n",
    "\n",
    "$x_{i,j}' \\longleftarrow x_{i,j}'+u(-1,1) \\times FW $\n",
    "\n",
    "***FIM SE***"
   ]
  },
  {
   "cell_type": "markdown",
   "metadata": {
    "slideshow": {
     "slide_type": "fragment"
    }
   },
   "source": [
    "***SENÃO*** {seleção aleatória}\n",
    "\n",
    "Gera $x_{i,j}'$ aleatoriamente \n",
    "\n",
    "***FIM SE***\n",
    "\n",
    "***FIM PARA***\n",
    "\n",
    "Avalia a nova Harmonia gerada: $f(x')$\n",
    "\n",
    "***SE*** $f(x')$ é melhor que a pior Harmonia na HM ***ENTÃO***\n",
    "\n",
    "Atualiza Memória Harmônica\n",
    "\n",
    "***FIM SE***\n",
    "\n",
    "ciclo $\\longleftarrow$ ciclo + 1\n",
    "\n",
    "Verifica o critério de parada\n",
    "\n",
    "***FIM ENQUANTO***\n",
    "\n",
    "Exibição dos resultados\n",
    "\n",
    "***FIM***"
   ]
  },
  {
   "cell_type": "markdown",
   "metadata": {
    "slideshow": {
     "slide_type": "slide"
    }
   },
   "source": [
    "## O programa de busca harmônica (BH.f08)"
   ]
  },
  {
   "cell_type": "markdown",
   "metadata": {
    "slideshow": {
     "slide_type": "subslide"
    }
   },
   "source": [
    "\\begin{enumerate}\n",
    "\\item A função objetivo é a função ajuste. O código tenta minimizar $x_{1}+x_{2}$ (linha 102 - qualquer tipo de função pode ser colocada aqui), PVB seta o tamanho das variáveis (linhas 124-127)\n",
    "\\item O programa principal se chama BH.f08.  \n",
    "\\item O programa guarda a melhor solução calculada na variável BestGen, e imprime na tela a solução a cada 1000  passos e armazena no arquivo ajuste.txt (213-214)\n",
    "\\end{enumerate}\n"
   ]
  },
  {
   "cell_type": "code",
   "execution_count": 15,
   "metadata": {},
   "outputs": [
    {
     "name": "stdout",
     "output_type": "stream",
     "text": [
      "[[-12.46311716   0.           0.        ]\n",
      " [-19.02452318   9.51226159   9.51226159]\n",
      " [-19.02452318   9.51226159   9.51226159]\n",
      " [-19.06740152   9.53370076   9.53370076]\n",
      " [-19.22880322   9.61440161   9.61440161]\n",
      " [-19.22880322   9.61440161   9.61440161]\n",
      " [-19.22880322   9.61440161   9.61440161]\n",
      " [-19.22880322   9.61440161   9.61440161]\n",
      " [-19.22955426   9.61477713   9.61477713]\n",
      " [-19.46099371   9.73049685   9.73049685]]\n"
     ]
    }
   ],
   "source": [
    "fit=np.loadtxt('ajuste.txt')\n",
    "print(fit)"
   ]
  },
  {
   "cell_type": "code",
   "execution_count": 16,
   "metadata": {},
   "outputs": [],
   "source": [
    "x=fit[:,0]\n",
    "y=fit[:,1]\n",
    "z=fit[:,2]"
   ]
  },
  {
   "cell_type": "code",
   "execution_count": 17,
   "metadata": {},
   "outputs": [
    {
     "data": {
      "image/png": "[encoded data removed]",
      "text/plain": [
       "<Figure size 1440x720 with 1 Axes>"
      ]
     },
     "metadata": {
      "needs_background": "light"
     },
     "output_type": "display_data"
    }
   ],
   "source": [
    "py.rcParams['figure.figsize'] = (20.0, 10.0)#Redimensiona a figura\n",
    "\n",
    "plt.plot( x, y, 'ko-',label=\"$x_{1}$\") \n",
    "plt.plot( x, z, 'ro-',label=\"$x_{2}$\") \n",
    "\n",
    "\n",
    "legend = plt.legend(loc='upper right', shadow=True, fontsize='x-large')\n",
    "\n",
    "plt.title(\"Fitness\", fontweight='bold', fontsize=25)\n",
    "plt.tick_params(axis='both', labelsize=15)\n",
    "\n",
    "\n",
    "plt.grid(True)\n",
    "plt.xlabel(\"$X$\", fontsize=15)\n",
    "plt.ylabel(\"$Y$\", fontsize=15)\n",
    "plt.savefig('Ajuste.png')  \n",
    "plt.show()  \n",
    "plt.close()"
   ]
  },
  {
   "cell_type": "code",
   "execution_count": null,
   "metadata": {},
   "outputs": [],
   "source": []
  }
 ],
 "metadata": {
  "celltoolbar": "Slideshow",
  "kernelspec": {
   "display_name": "Python 3",
   "language": "python",
   "name": "python3"
  },
  "language_info": {
   "codemirror_mode": {
    "name": "ipython",
    "version": 3
   },
   "file_extension": ".py",
   "mimetype": "text/x-python",
   "name": "python",
   "nbconvert_exporter": "python",
   "pygments_lexer": "ipython3",
   "version": "3.7.3"
  },
  "latex_envs": {
   "LaTeX_envs_menu_present": true,
   "autoclose": false,
   "autocomplete": true,
   "bibliofile": "biblio.bib",
   "cite_by": "apalike",
   "current_citInitial": 1,
   "eqLabelWithNumbers": true,
   "eqNumInitial": 1,
   "hotkeys": {
    "equation": "Ctrl-E",
    "itemize": "Ctrl-I"
   },
   "labels_anchors": false,
   "latex_user_defs": false,
   "report_style_numbering": false,
   "user_envs_cfg": false
  },
  "nbTranslate": {
   "displayLangs": [
    "*"
   ],
   "hotkey": "alt-t",
   "langInMainMenu": true,
   "sourceLang": "en",
   "targetLang": "fr",
   "useGoogleTranslate": true
  }
 },
 "nbformat": 4,
 "nbformat_minor": 2
}
